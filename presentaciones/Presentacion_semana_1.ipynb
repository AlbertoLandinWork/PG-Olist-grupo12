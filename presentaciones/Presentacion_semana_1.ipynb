{
 "cells": [
  {
   "cell_type": "markdown",
   "metadata": {
    "slideshow": {
     "slide_type": "slide"
    }
   },
   "source": [
    "# **Presentación Proyecto. Semana 1**"
   ]
  },
  {
   "cell_type": "markdown",
   "metadata": {
    "slideshow": {
     "slide_type": "slide"
    }
   },
   "source": [
    "## **Equipo de trabajo**\n",
    "- Daniel Castillo Villamarín: Ingeniero de Datos\n",
    "\n",
    "- Federico Kostzer: Analista de Datos\n",
    "\n",
    "- Alberto Landín: Ingeniero de Datos\n",
    "\n",
    "- Mariano Wilfrido Rodas: Analista de Datos"
   ]
  },
  {
   "cell_type": "markdown",
   "metadata": {
    "slideshow": {
     "slide_type": "slide"
    }
   },
   "source": [
    "## **Entendimiento de la situación actual**\n",
    "\n",
    "Nuestro trabajo es el de ayudar a una empresa de E-Commerce Argentina a evaluar la posibilidad de expandirse a Brasil.\n",
    "\n",
    "Para esto, haremos un análisis de datos detallado de un conjunto de datos que nos fue provisto con 100k (cien mil) ordenes de venta de distintos puntos de venta en Brasil. Dicho conjunto de datos va desde el año 2016 hasta el año 2018."
   ]
  },
  {
   "cell_type": "markdown",
   "metadata": {
    "slideshow": {
     "slide_type": "slide"
    }
   },
   "source": [
    "## **Solución propuesta:**\n",
    "Haremos un primer acercamiento a los datos con python para entender su estructura e integridad, detectar los KPI's y hacer los cambios que consideremos pertinentes.  \n",
    "Una vez entendidos los datos y hechos los cambios, procederemos a ingestarlos en una base de datos local donde haremos los análisis respectivos.  \n",
    "Por último crearemos los reportes y las visualizaciones de los kPI's con gráficos que faciliten el entendimiento de los mismos."
   ]
  },
  {
   "cell_type": "markdown",
   "metadata": {
    "slideshow": {
     "slide_type": "subslide"
    }
   },
   "source": [
    "### **Stack tecnológico propuesto:**  \n",
    "- Python\n",
    "- PostgresQL\n",
    "- Hadoop\n",
    "- Spark \n",
    "- Hive\n",
    "- Docker\n",
    "- Power BI\n",
    "- Trello\n",
    "- Google Colab\n",
    "- Git y Github\n",
    "- Google sheets\n",
    "- Google Drive\n"
   ]
  },
  {
   "cell_type": "markdown",
   "metadata": {
    "slideshow": {
     "slide_type": "slide"
    }
   },
   "source": [
    "# **Metodología de trabajo**"
   ]
  },
  {
   "cell_type": "markdown",
   "metadata": {
    "slideshow": {
     "slide_type": "subslide"
    }
   },
   "source": [
    "## **Diagrama de gantz**\n",
    "![Ganttz](../images/gantz.png)"
   ]
  },
  {
   "cell_type": "markdown",
   "metadata": {
    "slideshow": {
     "slide_type": "subslide"
    }
   },
   "source": [
    "## **Metodología kanban - Trello**\n",
    "![Trello](../images/trello.png))"
   ]
  },
  {
   "cell_type": "markdown",
   "metadata": {
    "slideshow": {
     "slide_type": "slide"
    }
   },
   "source": [
    "# **Datos**"
   ]
  },
  {
   "cell_type": "markdown",
   "metadata": {
    "slideshow": {
     "slide_type": "subslide"
    }
   },
   "source": [
    "## **Diagrama Entidad - Relación**\n",
    "![DER](../images/modeloER.png)"
   ]
  },
  {
   "cell_type": "markdown",
   "metadata": {
    "slideshow": {
     "slide_type": "subslide"
    }
   },
   "source": [
    "## **Diccionario de datos**\n",
    "![Diccionario de datos](../images/diccionario_de_datos.png)"
   ]
  },
  {
   "cell_type": "markdown",
   "metadata": {
    "slideshow": {
     "slide_type": "slide"
    }
   },
   "source": [
    "## **Objetivos:**\n",
    "Realizar un análisis el cual nos permita:  \n",
    "\n",
    "1- Entender el comportamiento de los clientes Brasileños y segmentarlo de acuerdo a dicho comportamiento.\n",
    "\n",
    "2- Identificar los productos con mayor y menor recaudación monetaria.\n",
    "\n",
    "\n",
    "3- Identificar las categorías de productos con mayor y menor recaudación monetaria.\n",
    "\n",
    "4- Identificar cuáles son las ciudades y los estados con mayor número de ventas.\n",
    "\n",
    "5- Identificar la estrategia de captación de clientes más efectiva.\n"
   ]
  },
  {
   "cell_type": "markdown",
   "metadata": {
    "slideshow": {
     "slide_type": "slide"
    }
   },
   "source": [
    "## **KPI's Propuestos**\n",
    "- Cantidad de vendedores por región **(a discusión)**\n",
    "- Volumen de ventas por mes\n",
    "- Puntaje de los clientes por producto\n",
    "- Ingresos por campaña de marketing\n",
    "- Correlación entre puntaje de producto e ingresos del mismo"
   ]
  },
  {
   "cell_type": "markdown",
   "metadata": {
    "slideshow": {
     "slide_type": "slide"
    }
   },
   "source": [
    "# Gracias por su atención. FIN"
   ]
  }
 ],
 "metadata": {
  "celltoolbar": "Slideshow",
  "kernelspec": {
   "display_name": "Python 3 (ipykernel)",
   "language": "python",
   "name": "python3"
  },
  "language_info": {
   "codemirror_mode": {
    "name": "ipython",
    "version": 3
   },
   "file_extension": ".py",
   "mimetype": "text/x-python",
   "name": "python",
   "nbconvert_exporter": "python",
   "pygments_lexer": "ipython3",
   "version": "3.10.3"
  },
  "vscode": {
   "interpreter": {
    "hash": "369f2c481f4da34e4445cda3fffd2e751bd1c4d706f27375911949ba6bb62e1c"
   }
  }
 },
 "nbformat": 4,
 "nbformat_minor": 2
}
